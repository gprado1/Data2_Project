{
 "cells": [
  {
   "cell_type": "markdown",
   "metadata": {},
   "source": [
    "## Crime and Education using Machine Learning "
   ]
  },
  {
   "cell_type": "code",
   "execution_count": 1,
   "metadata": {},
   "outputs": [],
   "source": [
    "import os\n",
    "import pandas as pd\n",
    "import requests\n",
    "import seaborn as sns"
   ]
  },
  {
   "cell_type": "code",
   "execution_count": 2,
   "metadata": {},
   "outputs": [],
   "source": [
    "def get_data_chicago(id):\n",
    "    '''\n",
    "    Connect to the chicago data portal API and returns a dataframe\n",
    "    '''\n",
    "    \n",
    "    url = f'https://data.cityofchicago.org/api/views/{id}/rows.csv?accessType=DOWNLOAD'\n",
    "    df = pd.read_csv(url)\n",
    "    \n",
    "    return df"
   ]
  },
  {
   "cell_type": "code",
   "execution_count": 3,
   "metadata": {},
   "outputs": [],
   "source": [
    "# School Performance 2012\n",
    "school_performance_2012 = get_data_chicago('9xs2-f89t')"
   ]
  },
  {
   "cell_type": "code",
   "execution_count": 4,
   "metadata": {},
   "outputs": [],
   "source": [
    "# Change the key name in order to merge columns later\n",
    "school_performance_2012=school_performance_2012.rename(columns = {'School ID':'School_ID'}, inplace = False)"
   ]
  },
  {
   "cell_type": "code",
   "execution_count": 5,
   "metadata": {},
   "outputs": [],
   "source": [
    "# Crime 2016\n",
    "\n",
    "Crime_2016 = get_data_chicago('kf95-mnd6')"
   ]
  },
  {
   "cell_type": "code",
   "execution_count": 6,
   "metadata": {},
   "outputs": [],
   "source": [
    "# School Performance 2015 - 2016 (it uses the last year as a tag).\n",
    "school_performance_2016 = get_data_chicago('fvrx-esxp')"
   ]
  },
  {
   "cell_type": "code",
   "execution_count": 7,
   "metadata": {},
   "outputs": [],
   "source": [
    "#Crime 2018\n",
    "\n",
    "Crime_2018 = get_data_chicago('3i3m-jwuy') "
   ]
  },
  {
   "cell_type": "code",
   "execution_count": 8,
   "metadata": {},
   "outputs": [],
   "source": [
    "# School Performance in 2017 - 2018. (it uses the last year as a tag)\n",
    "\n",
    "school_performance_2018 = get_data_chicago('wkiz-8iya')\n"
   ]
  },
  {
   "cell_type": "code",
   "execution_count": 9,
   "metadata": {},
   "outputs": [],
   "source": [
    "#check if  Community_Area column exists in school_performance_2016 and school_performance_2018\n",
    "Community_Area_2016 = \"Community Area Number\" in school_performance_2016\n",
    "Community_Area_2018 = \"Community Area Number\" in school_performance_2018"
   ]
  },
  {
   "cell_type": "code",
   "execution_count": 10,
   "metadata": {},
   "outputs": [
    {
     "data": {
      "text/plain": [
       "False"
      ]
     },
     "execution_count": 10,
     "metadata": {},
     "output_type": "execute_result"
    }
   ],
   "source": [
    "Community_Area_2016"
   ]
  },
  {
   "cell_type": "code",
   "execution_count": 11,
   "metadata": {},
   "outputs": [
    {
     "data": {
      "text/plain": [
       "False"
      ]
     },
     "execution_count": 11,
     "metadata": {},
     "output_type": "execute_result"
    }
   ],
   "source": [
    "Community_Area_2018"
   ]
  },
  {
   "cell_type": "code",
   "execution_count": 12,
   "metadata": {},
   "outputs": [
    {
     "data": {
      "text/plain": [
       "Index(['School_ID', 'Short_Name', 'Long_Name', 'School_Type',\n",
       "       'Primary_Category', 'Phone', 'Fax', 'CPS_School_Profile', 'Website',\n",
       "       'Progress_Report_Year',\n",
       "       ...\n",
       "       'Progress_Toward_Graduation_Year_2', 'State_School_Report_Card_URL',\n",
       "       'Mobility_Rate_Pct', 'Chronic_Truancy_Pct',\n",
       "       'Empty_Progress_Report_Message', 'School_Survey_Rating_Description',\n",
       "       'Supportive_School_Award', 'Supportive_School_Award_Desc',\n",
       "       'Parent_Survey_Results_Year', 'Location'],\n",
       "      dtype='object', length=163)"
      ]
     },
     "execution_count": 12,
     "metadata": {},
     "output_type": "execute_result"
    }
   ],
   "source": [
    "school_performance_2018.columns"
   ]
  },
  {
   "cell_type": "code",
   "execution_count": 13,
   "metadata": {},
   "outputs": [],
   "source": [
    "#Since Community Area Number does not exist in school_performance_2016 neither 2018, we merge that column \n",
    "#using School_ID as key"
   ]
  },
  {
   "cell_type": "code",
   "execution_count": 14,
   "metadata": {},
   "outputs": [],
   "source": [
    "school_performance_2016=school_performance_2016.merge(school_performance_2012[['School_ID', 'Community Area Name','Community Area Number']],\n",
    "                                                      on='School_ID')"
   ]
  },
  {
   "cell_type": "code",
   "execution_count": 15,
   "metadata": {},
   "outputs": [],
   "source": [
    "school_performance_2018=school_performance_2018.merge(school_performance_2012[['School_ID', 'Community Area Name','Community Area Number']],\n",
    "                 on='School_ID')"
   ]
  },
  {
   "cell_type": "code",
   "execution_count": 16,
   "metadata": {},
   "outputs": [
    {
     "data": {
      "text/plain": [
       "array(['CRIMINAL SEXUAL ASSAULT', 'DECEPTIVE PRACTICE',\n",
       "       'OFFENSE INVOLVING CHILDREN', 'HOMICIDE', 'BURGLARY', 'BATTERY',\n",
       "       'SEX OFFENSE', 'ASSAULT', 'NARCOTICS', 'THEFT', 'CRIMINAL DAMAGE',\n",
       "       'ROBBERY', 'WEAPONS VIOLATION', 'OTHER OFFENSE',\n",
       "       'CRIMINAL TRESPASS', 'PUBLIC PEACE VIOLATION',\n",
       "       'MOTOR VEHICLE THEFT', 'KIDNAPPING',\n",
       "       'INTERFERENCE WITH PUBLIC OFFICER', 'CRIM SEXUAL ASSAULT',\n",
       "       'NON-CRIMINAL', 'ARSON', 'CONCEALED CARRY LICENSE VIOLATION',\n",
       "       'STALKING', 'LIQUOR LAW VIOLATION', 'PROSTITUTION', 'INTIMIDATION',\n",
       "       'NON-CRIMINAL (SUBJECT SPECIFIED)', 'OBSCENITY', 'GAMBLING',\n",
       "       'NON - CRIMINAL', 'OTHER NARCOTIC VIOLATION', 'PUBLIC INDECENCY',\n",
       "       'HUMAN TRAFFICKING'], dtype=object)"
      ]
     },
     "execution_count": 16,
     "metadata": {},
     "output_type": "execute_result"
    }
   ],
   "source": [
    "Crime_2016['Primary Type'].unique()"
   ]
  },
  {
   "cell_type": "code",
   "execution_count": 17,
   "metadata": {},
   "outputs": [],
   "source": [
    "# recode according to type of crime: 1: Violent, 0: No Violent, 99: undefined\n",
    "\n",
    "def type_to_binary(x):\n",
    "        if x=='BATTERY': return 1\n",
    "        if x=='MOTOR VEHICLE THEFT': return 1\n",
    "        if x=='ROBBERY': return 1\n",
    "        if x=='THEFT': return 1\n",
    "        if x=='ASSAULT': return 1\n",
    "        if x=='CRIMINAL SEXUAL ASSAULT': return 1\n",
    "        if x=='INTIMIDATION': return 1\n",
    "        if x=='WEAPONS VIOLATION': return 1\n",
    "        if x=='HOMICIDE': return 1\n",
    "        if x=='PUBLIC PEACE VIOLATION': return 1\n",
    "        if x=='KIDNAPPING': return 1\n",
    "        if x=='SEX OFFENSE': return 1\n",
    "        if x=='CRIM SEXUAL ASSAULT': return 1\n",
    "        if x=='CRIMINAL SEXUAL ASSAULT': return 1\n",
    "        if x=='DECEPTIVE PRACTICE': return 0\n",
    "        if x=='NARCOTICS': return 0\n",
    "        if x=='INTERFERENCE WITH PUBLIC OFFICER': return 0\n",
    "        if x=='PROSTITUTION': return 0\n",
    "        if x=='GAMBING': return 0\n",
    "        if x=='OBSCENITY': return 0\n",
    "        if x=='RITUALISM': return 0\n",
    "        if x=='CONCEALED CARRY LICENSE VIOLATION': return 0\n",
    "        if x=='LIQUOR LAW VIOLATION': return 0\n",
    "        if x=='HUMAN TRAFFICKING': return 0\n",
    "        if x=='PUBLIC INDECENCY': return 0\n",
    "        if x=='OTHER NARCOTIC VIOLATION': return 0\n",
    "        if x=='OTHER OFFENSE': return 99\n",
    "        if x=='CRIMINAL TRESPASS': return 99\n",
    "        if x=='CRIMINAL DAMAGE': return 99\n",
    "        if x=='BURGLARY': return 99\n",
    "        if x=='OFFENSE INVOLVING CHILDREN': return 99\n",
    "        if x=='ARSON': return 99\n",
    "        if x=='STALKING': return 99\n",
    "        if x=='NON-CRIMINAL': return 99\n",
    "        if x=='CRIMINAL TRESPASS': return 99\n",
    "        if x=='NON-CRIMINAL (SUBJECT SPECIFIED)': return 99\n",
    "\n",
    "\n",
    "# Applying the function\n",
    "Crime_2016['binary'] = Crime_2016['Primary Type'].apply(type_to_binary)\n",
    "Crime_2018['binary'] = Crime_2018['Primary Type'].apply(type_to_binary)"
   ]
  },
  {
   "cell_type": "code",
   "execution_count": 18,
   "metadata": {},
   "outputs": [
    {
     "data": {
      "text/plain": [
       "1.0     162681\n",
       "99.0     72013\n",
       "0.0      34588\n",
       "Name: binary, dtype: int64"
      ]
     },
     "execution_count": 18,
     "metadata": {},
     "output_type": "execute_result"
    }
   ],
   "source": [
    "Crime_2016['binary'].value_counts()"
   ]
  },
  {
   "cell_type": "code",
   "execution_count": 19,
   "metadata": {},
   "outputs": [
    {
     "data": {
      "text/plain": [
       "1.0     165726\n",
       "99.0     66647\n",
       "0.0      35675\n",
       "Name: binary, dtype: int64"
      ]
     },
     "execution_count": 19,
     "metadata": {},
     "output_type": "execute_result"
    }
   ],
   "source": [
    "Crime_2018['binary'].value_counts()"
   ]
  },
  {
   "cell_type": "code",
   "execution_count": 20,
   "metadata": {},
   "outputs": [],
   "source": [
    "Crime_2016 = Crime_2016[Crime_2016.binary != 99]"
   ]
  },
  {
   "cell_type": "code",
   "execution_count": 21,
   "metadata": {},
   "outputs": [],
   "source": [
    "Crime_2018 = Crime_2018[Crime_2018.binary != 99]"
   ]
  },
  {
   "cell_type": "code",
   "execution_count": 22,
   "metadata": {},
   "outputs": [
    {
     "data": {
      "text/plain": [
       "Index(['ID', 'Case Number', 'Date', 'Block', 'IUCR', 'Primary Type',\n",
       "       'Description', 'Location Description', 'Arrest', 'Domestic', 'Beat',\n",
       "       'District', 'Ward', 'Community Area', 'FBI Code', 'X Coordinate',\n",
       "       'Y Coordinate', 'Year', 'Updated On', 'Latitude', 'Longitude',\n",
       "       'Location', 'binary'],\n",
       "      dtype='object')"
      ]
     },
     "execution_count": 22,
     "metadata": {},
     "output_type": "execute_result"
    }
   ],
   "source": [
    "Crime_2016.columns"
   ]
  },
  {
   "cell_type": "code",
   "execution_count": 23,
   "metadata": {},
   "outputs": [],
   "source": [
    "#Subset for the column of interest\n",
    "Crime_2016 =Crime_2016[['Community Area','binary']]\n",
    "# Rename the Community Area in order to have homogeneous names\n",
    "Crime_2016=Crime_2016.rename(columns = {'Community Area':'Community Area Number'}, inplace = False)"
   ]
  },
  {
   "cell_type": "code",
   "execution_count": 24,
   "metadata": {},
   "outputs": [],
   "source": [
    "#Subset for the column of interest\n",
    "Crime_2018 =Crime_2018[['Community Area','binary']]\n",
    "# Rename the Community Area in order to have homogeneous names\n",
    "Crime_2018=Crime_2018.rename(columns = {'Community Area':'Community Area Number'}, inplace = False)"
   ]
  },
  {
   "cell_type": "code",
   "execution_count": 40,
   "metadata": {},
   "outputs": [],
   "source": [
    "test2 = \"nwea_reading_attainment_grade_8_pct\" in school_performance_2016"
   ]
  },
  {
   "cell_type": "code",
   "execution_count": 41,
   "metadata": {},
   "outputs": [
    {
     "data": {
      "text/plain": [
       "False"
      ]
     },
     "execution_count": 41,
     "metadata": {},
     "output_type": "execute_result"
    }
   ],
   "source": [
    "test2 "
   ]
  },
  {
   "cell_type": "code",
   "execution_count": 44,
   "metadata": {},
   "outputs": [
    {
     "name": "stdout",
     "output_type": "stream",
     "text": [
      "School_ID\n",
      "Short_Name\n",
      "Long_Name\n",
      "School_Type\n",
      "Primary_Category\n",
      "Address\n",
      "City\n",
      "State\n",
      "Zip\n",
      "Phone\n",
      "Fax\n",
      "CPS_School_Profile\n",
      "Website\n",
      "Progress_Report_Year\n",
      "Blue_Ribbon_Award_Year\n",
      "Excelerate_Award_Gold_Year\n",
      "Spot_Light_Award_Year\n",
      "Improvement_Award_Year\n",
      "Excellence_Award_Year\n",
      "Student_Growth_Rating\n",
      "Student_Growth_Description\n",
      "Growth_Reading_Grades_Tested_Pct_ES\n",
      "Growth_Reading_Grades_Tested_Label_ES\n",
      "Growth_Math_Grades_Tested_Pct_ES\n",
      "Growth_Math_Grades_Tested_Label_ES\n",
      "Student_Attainment_Rating\n",
      "Student_Attainment_Description\n",
      "Attainment_Reading_Pct_ES\n",
      "Attainment_Reading_Lbl_ES\n",
      "Attainment_Math_Pct_ES\n",
      "Attainment_Math_Lbl_ES\n",
      "Culture_Climate_Rating\n",
      "Culture_Climate_Description\n",
      "School_Survey_Student_Response_Rate_Pct\n",
      "School_Survey_Student_Response_Rate_Avg_Pct\n",
      "School_Survey_Teacher_Response_Rate_Pct\n",
      "School_Survey_Teacher_Response_Rate_Avg_Pct\n",
      "Healthy_School_Certification\n",
      "Healthy_School_Certification_Description\n",
      "Creative_School_Certification\n",
      "Creative_School_Certification_Description\n",
      "NWEA_Reading_Growth_Grade_3_Pct\n",
      "NWEA_Reading_Growth_Grade_3_Lbl\n",
      "NWEA_Reading_Growth_Grade_4_Pct\n",
      "NWEA_Reading_Growth_Grade_4_Lbl\n",
      "NWEA_Reading_Growth_Grade_5_Pct\n",
      "NWEA_Reading_Growth_Grade_5_Lbl\n",
      "NWEA_Reading_Growth_Grade_6_Pct\n",
      "NWEA_Reading_Growth_Grade_6_Lbl\n",
      "NWEA_Reading_Growth_Grade_7_Pct\n",
      "NWEA_Reading_Growth_Grade_7_Lbl\n",
      "NWEA_Reading_Growth_Grade_8_Pct\n",
      "NWEA_Reading_Growth_Grade_8_Lbl\n",
      "NWEA_Math_Growth_Grade_3_Pct\n",
      "NWEA_Math_Growth_Grade_3_Lbl\n",
      "NWEA_Math_Growth_Grade_4_Pct\n",
      "NWEA_Math_Growth_Grade_4_Lbl\n",
      "NWEA_Math_Growth_Grade_5_Pct\n",
      "NWEA_Math_Growth_Grade_5_Lbl\n",
      "NWEA_Math_Growth_Grade_6_Pct\n",
      "NWEA_Math_Growth_Grade_6_Lbl\n",
      "NWEA_Math_Growth_Grade_7_Pct\n",
      "NWEA_Math_Growth_Grade_7_Lbl\n",
      "NWEA_Math_Growth_Grade_8_Pct\n",
      "NWEA_Math_Growth_Grade_8_Lbl\n",
      "NWEA_Reading_Attainment_Grade_2_Pct\n",
      "NWEA_Reading_Attainment_Grade_2_Lbl\n",
      "NWEA_Reading_Attainment_Grade_3_Pct\n",
      "NWEA_Reading_Attainment_Grade_3_Lbl\n",
      "NWEA_Reading_Attainment_Grade_4_Pct\n",
      "NWEA_Reading_Attainment_Grade_4_Lbl\n",
      "NWEA_Reading_Attainment_Grade_5_Pct\n",
      "NWEA_Reading_Attainment_Grade_5_Lbl\n",
      "NWEA_Reading_Attainment_Grade_6_Pct\n",
      "NWEA_Reading_Attainment_Grade_6_Lbl\n",
      "NWEA_Reading_Attainment_Grade_7_Pct\n",
      "NWEA_Reading_Attainment_Grade_7_Lbl\n",
      "NWEA_Reading_Attainment_Grade_8_Pct\n",
      "NWEA_Reading_Attainment_Grade_8_Lbl\n",
      "NWEA_Math_Attainment_Grade_2_Pct\n",
      "NWEA_Math_Attainment_Grade_2_Lbl\n",
      "NWEA_Math_Attainment_Grade_3_Pct\n",
      "NWEA_Math_Attainment_Grade_3_Lbl\n",
      "NWEA_Math_Attainment_Grade_4_Pct\n",
      "NWEA_Math_Attainment_Grade_4_Lbl\n",
      "NWEA_Math_Attainment_Grade_5_Pct\n",
      "NWEA_Math_Attainment_Grade_5_Lbl\n",
      "NWEA_Math_Attainment_Grade_6_Pct\n",
      "NWEA_Math_Attainment_Grade_6_Lbl\n",
      "NWEA_Math_Attainment_Grade_7_Pct\n",
      "NWEA_Math_Attainment_Grade_7_Lbl\n",
      "NWEA_Math_Attainment_Grade_8_Pct\n",
      "NWEA_Math_Attainment_Grade_8_Lbl\n",
      "School_Survey_Involved_Families\n",
      "School_Survey_Supportive_Environment\n",
      "School_Survey_Ambitious_Instruction\n",
      "School_Survey_Effective_Leaders\n",
      "School_Survey_Collaborative_Teachers\n",
      "School_Survey_Safety\n",
      "Suspensions_Per_100_Students_Year_1_Pct\n",
      "Suspensions_Per_100_Students_Year_2_Pct\n",
      "Suspensions_Per_100_Students_Avg_Pct\n",
      "Misconducts_To_Suspensions_Year_1_Pct\n",
      "Misconducts_To_Suspensions_Year_2_Pct\n",
      "Misconducts_To_Suspensions_Avg_Pct\n",
      "Average_Length_Suspension_Year_1_Pct\n",
      "Average_Length_Suspension_Year_2_Pct\n",
      "Average_Length_Suspension_Avg_Pct\n",
      "Behavior_Discipline_Year_1\n",
      "Behavior_Discipline_Year_2\n",
      "School_Survey_School_Community\n",
      "School_Survey_Parent_Teacher_Partnership\n",
      "School_Survey_Quality_Of_Facilities\n",
      "Student_Attendance_Year_1_Pct\n",
      "Student_Attendance_Year_2_Pct\n",
      "Student_Attendance_Avg_Pct\n",
      "Teacher_Attendance_Year_1_Pct\n",
      "Teacher_Attendance_Year_2_Pct\n",
      "Teacher_Attendance_Avg_Pct\n",
      "One_Year_Dropout_Rate_Year_1_Pct\n",
      "One_Year_Dropout_Rate_Year_2_Pct\n",
      "One_Year_Dropout_Rate_Avg_Pct\n",
      "Other_Metrics_Year_1\n",
      "Other_Metrics_Year_2\n",
      "Growth_ACT_Grade_11_Pct\n",
      "Growth_ACT_Grade_11_Lbl\n",
      "Attainment_ACT_Grade_11_Pct\n",
      "Attainment_ACT_Grade_11_Lbl\n",
      "Freshmen_On_Track_School_Pct_Year_2\n",
      "Freshmen_On_Track_CPS_Pct_Year_2\n",
      "Freshmen_On_Track_School_Pct_Year_1\n",
      "Freshmen_On_Track_CPS_Pct_Year_1\n",
      "College_Enrollment_School_Pct_Year_2\n",
      "College_Enrollment_CPS_Pct_Year_2\n",
      "College_Enrollment_School_Pct_Year_1\n",
      "College_Enrollment_CPS_Pct_Year_1\n",
      "College_Persistence_School_Pct_Year_2\n",
      "College_Persistence_CPS_Pct_Year_2\n",
      "College_Persistence_School_Pct_Year_1\n",
      "College_Persistence_CPS_Pct_Year_1\n",
      "Progress_Toward_Graduation_Year_1\n",
      "Progress_Toward_Graduation_Year_2\n",
      "State_School_Report_Card_URL\n",
      "Mobility_Rate_Pct\n",
      "Chronic_Truancy_Pct\n",
      "Empty_Progress_Report_Message\n",
      "School_Survey_Rating_Description\n",
      "Supportive_School_Award\n",
      "Supportive_School_Award_Desc\n",
      "Parent_Survey_Results_Year\n",
      "School_Latitude\n",
      "School_Longitude\n",
      "Location\n",
      "Community Area Name\n",
      "Community Area Number\n"
     ]
    }
   ],
   "source": [
    "for col in school_performance_2016.columns: \n",
    "    print(col)"
   ]
  },
  {
   "cell_type": "code",
   "execution_count": 47,
   "metadata": {},
   "outputs": [],
   "source": [
    "#Subset for the column of interest-2016\n",
    "school_performance_2016=school_performance_2016[['NWEA_Math_Attainment_Grade_8_Pct',\n",
    "                                      'NWEA_Reading_Attainment_Grade_8_Pct', 'Student_Attendance_Avg_Pct',\n",
    "                                                 'Community Area Number']]"
   ]
  },
  {
   "cell_type": "code",
   "execution_count": 48,
   "metadata": {},
   "outputs": [],
   "source": [
    "#Subset for the column of interest-2018\n",
    "school_performance_2018=school_performance_2018[['NWEA_Math_Attainment_Grade_8_Pct',\n",
    "                                      'NWEA_Reading_Attainment_Grade_8_Pct', 'Student_Attendance_Avg_Pct',\n",
    "                                                 'Community Area Number']]"
   ]
  },
  {
   "cell_type": "code",
   "execution_count": 49,
   "metadata": {},
   "outputs": [],
   "source": [
    "community_performance_2016=school_performance_2016.groupby('Community Area Number').mean().reset_index()"
   ]
  },
  {
   "cell_type": "code",
   "execution_count": 51,
   "metadata": {},
   "outputs": [],
   "source": [
    "community_performance_2018=school_performance_2018.groupby('Community Area Number').mean().reset_index()"
   ]
  },
  {
   "cell_type": "code",
   "execution_count": 52,
   "metadata": {},
   "outputs": [],
   "source": [
    "train=pd.merge(Crime_2016,community_performance_2016,on='Community Area Number')"
   ]
  },
  {
   "cell_type": "code",
   "execution_count": 55,
   "metadata": {},
   "outputs": [
    {
     "data": {
      "text/html": [
       "<div>\n",
       "<style scoped>\n",
       "    .dataframe tbody tr th:only-of-type {\n",
       "        vertical-align: middle;\n",
       "    }\n",
       "\n",
       "    .dataframe tbody tr th {\n",
       "        vertical-align: top;\n",
       "    }\n",
       "\n",
       "    .dataframe thead th {\n",
       "        text-align: right;\n",
       "    }\n",
       "</style>\n",
       "<table border=\"1\" class=\"dataframe\">\n",
       "  <thead>\n",
       "    <tr style=\"text-align: right;\">\n",
       "      <th></th>\n",
       "      <th>Community Area Number</th>\n",
       "      <th>binary</th>\n",
       "      <th>NWEA_Math_Attainment_Grade_8_Pct</th>\n",
       "      <th>NWEA_Reading_Attainment_Grade_8_Pct</th>\n",
       "      <th>Student_Attendance_Avg_Pct</th>\n",
       "      <th>Teacher_Attendance_Avg_Pct</th>\n",
       "    </tr>\n",
       "  </thead>\n",
       "  <tbody>\n",
       "    <tr>\n",
       "      <th>0</th>\n",
       "      <td>66</td>\n",
       "      <td>1.0</td>\n",
       "      <td>38.142857</td>\n",
       "      <td>39.285714</td>\n",
       "      <td>95.1</td>\n",
       "      <td>95.0</td>\n",
       "    </tr>\n",
       "    <tr>\n",
       "      <th>1</th>\n",
       "      <td>66</td>\n",
       "      <td>0.0</td>\n",
       "      <td>38.142857</td>\n",
       "      <td>39.285714</td>\n",
       "      <td>95.1</td>\n",
       "      <td>95.0</td>\n",
       "    </tr>\n",
       "    <tr>\n",
       "      <th>2</th>\n",
       "      <td>66</td>\n",
       "      <td>1.0</td>\n",
       "      <td>38.142857</td>\n",
       "      <td>39.285714</td>\n",
       "      <td>95.1</td>\n",
       "      <td>95.0</td>\n",
       "    </tr>\n",
       "    <tr>\n",
       "      <th>3</th>\n",
       "      <td>66</td>\n",
       "      <td>1.0</td>\n",
       "      <td>38.142857</td>\n",
       "      <td>39.285714</td>\n",
       "      <td>95.1</td>\n",
       "      <td>95.0</td>\n",
       "    </tr>\n",
       "    <tr>\n",
       "      <th>4</th>\n",
       "      <td>66</td>\n",
       "      <td>1.0</td>\n",
       "      <td>38.142857</td>\n",
       "      <td>39.285714</td>\n",
       "      <td>95.1</td>\n",
       "      <td>95.0</td>\n",
       "    </tr>\n",
       "    <tr>\n",
       "      <th>...</th>\n",
       "      <td>...</td>\n",
       "      <td>...</td>\n",
       "      <td>...</td>\n",
       "      <td>...</td>\n",
       "      <td>...</td>\n",
       "      <td>...</td>\n",
       "    </tr>\n",
       "    <tr>\n",
       "      <th>197458</th>\n",
       "      <td>34</td>\n",
       "      <td>1.0</td>\n",
       "      <td>97.500000</td>\n",
       "      <td>90.500000</td>\n",
       "      <td>93.0</td>\n",
       "      <td>95.0</td>\n",
       "    </tr>\n",
       "    <tr>\n",
       "      <th>197459</th>\n",
       "      <td>34</td>\n",
       "      <td>0.0</td>\n",
       "      <td>97.500000</td>\n",
       "      <td>90.500000</td>\n",
       "      <td>93.0</td>\n",
       "      <td>95.0</td>\n",
       "    </tr>\n",
       "    <tr>\n",
       "      <th>197460</th>\n",
       "      <td>34</td>\n",
       "      <td>0.0</td>\n",
       "      <td>97.500000</td>\n",
       "      <td>90.500000</td>\n",
       "      <td>93.0</td>\n",
       "      <td>95.0</td>\n",
       "    </tr>\n",
       "    <tr>\n",
       "      <th>197461</th>\n",
       "      <td>34</td>\n",
       "      <td>1.0</td>\n",
       "      <td>97.500000</td>\n",
       "      <td>90.500000</td>\n",
       "      <td>93.0</td>\n",
       "      <td>95.0</td>\n",
       "    </tr>\n",
       "    <tr>\n",
       "      <th>197462</th>\n",
       "      <td>34</td>\n",
       "      <td>1.0</td>\n",
       "      <td>97.500000</td>\n",
       "      <td>90.500000</td>\n",
       "      <td>93.0</td>\n",
       "      <td>95.0</td>\n",
       "    </tr>\n",
       "  </tbody>\n",
       "</table>\n",
       "<p>197463 rows × 6 columns</p>\n",
       "</div>"
      ],
      "text/plain": [
       "        Community Area Number  binary  NWEA_Math_Attainment_Grade_8_Pct  \\\n",
       "0                          66     1.0                         38.142857   \n",
       "1                          66     0.0                         38.142857   \n",
       "2                          66     1.0                         38.142857   \n",
       "3                          66     1.0                         38.142857   \n",
       "4                          66     1.0                         38.142857   \n",
       "...                       ...     ...                               ...   \n",
       "197458                     34     1.0                         97.500000   \n",
       "197459                     34     0.0                         97.500000   \n",
       "197460                     34     0.0                         97.500000   \n",
       "197461                     34     1.0                         97.500000   \n",
       "197462                     34     1.0                         97.500000   \n",
       "\n",
       "        NWEA_Reading_Attainment_Grade_8_Pct  Student_Attendance_Avg_Pct  \\\n",
       "0                                 39.285714                        95.1   \n",
       "1                                 39.285714                        95.1   \n",
       "2                                 39.285714                        95.1   \n",
       "3                                 39.285714                        95.1   \n",
       "4                                 39.285714                        95.1   \n",
       "...                                     ...                         ...   \n",
       "197458                            90.500000                        93.0   \n",
       "197459                            90.500000                        93.0   \n",
       "197460                            90.500000                        93.0   \n",
       "197461                            90.500000                        93.0   \n",
       "197462                            90.500000                        93.0   \n",
       "\n",
       "        Teacher_Attendance_Avg_Pct  \n",
       "0                             95.0  \n",
       "1                             95.0  \n",
       "2                             95.0  \n",
       "3                             95.0  \n",
       "4                             95.0  \n",
       "...                            ...  \n",
       "197458                        95.0  \n",
       "197459                        95.0  \n",
       "197460                        95.0  \n",
       "197461                        95.0  \n",
       "197462                        95.0  \n",
       "\n",
       "[197463 rows x 6 columns]"
      ]
     },
     "execution_count": 55,
     "metadata": {},
     "output_type": "execute_result"
    }
   ],
   "source": [
    "train"
   ]
  },
  {
   "cell_type": "code",
   "execution_count": 56,
   "metadata": {},
   "outputs": [],
   "source": [
    "test=pd.merge(Crime_2018,community_performance_2018,on='Community Area Number')"
   ]
  },
  {
   "cell_type": "code",
   "execution_count": 57,
   "metadata": {},
   "outputs": [
    {
     "data": {
      "text/html": [
       "<div>\n",
       "<style scoped>\n",
       "    .dataframe tbody tr th:only-of-type {\n",
       "        vertical-align: middle;\n",
       "    }\n",
       "\n",
       "    .dataframe tbody tr th {\n",
       "        vertical-align: top;\n",
       "    }\n",
       "\n",
       "    .dataframe thead th {\n",
       "        text-align: right;\n",
       "    }\n",
       "</style>\n",
       "<table border=\"1\" class=\"dataframe\">\n",
       "  <thead>\n",
       "    <tr style=\"text-align: right;\">\n",
       "      <th></th>\n",
       "      <th>Community Area Number</th>\n",
       "      <th>binary</th>\n",
       "      <th>NWEA_Math_Attainment_Grade_8_Pct</th>\n",
       "      <th>NWEA_Reading_Attainment_Grade_8_Pct</th>\n",
       "      <th>Student_Attendance_Avg_Pct</th>\n",
       "      <th>Teacher_Attendance_Avg_Pct</th>\n",
       "    </tr>\n",
       "  </thead>\n",
       "  <tbody>\n",
       "    <tr>\n",
       "      <th>0</th>\n",
       "      <td>29</td>\n",
       "      <td>1.0</td>\n",
       "      <td>41.0</td>\n",
       "      <td>48.9</td>\n",
       "      <td>92.8</td>\n",
       "      <td>90.1</td>\n",
       "    </tr>\n",
       "    <tr>\n",
       "      <th>1</th>\n",
       "      <td>29</td>\n",
       "      <td>0.0</td>\n",
       "      <td>41.0</td>\n",
       "      <td>48.9</td>\n",
       "      <td>92.8</td>\n",
       "      <td>90.1</td>\n",
       "    </tr>\n",
       "    <tr>\n",
       "      <th>2</th>\n",
       "      <td>29</td>\n",
       "      <td>1.0</td>\n",
       "      <td>41.0</td>\n",
       "      <td>48.9</td>\n",
       "      <td>92.8</td>\n",
       "      <td>90.1</td>\n",
       "    </tr>\n",
       "    <tr>\n",
       "      <th>3</th>\n",
       "      <td>29</td>\n",
       "      <td>1.0</td>\n",
       "      <td>41.0</td>\n",
       "      <td>48.9</td>\n",
       "      <td>92.8</td>\n",
       "      <td>90.1</td>\n",
       "    </tr>\n",
       "    <tr>\n",
       "      <th>4</th>\n",
       "      <td>29</td>\n",
       "      <td>1.0</td>\n",
       "      <td>41.0</td>\n",
       "      <td>48.9</td>\n",
       "      <td>92.8</td>\n",
       "      <td>90.1</td>\n",
       "    </tr>\n",
       "    <tr>\n",
       "      <th>...</th>\n",
       "      <td>...</td>\n",
       "      <td>...</td>\n",
       "      <td>...</td>\n",
       "      <td>...</td>\n",
       "      <td>...</td>\n",
       "      <td>...</td>\n",
       "    </tr>\n",
       "    <tr>\n",
       "      <th>201597</th>\n",
       "      <td>55</td>\n",
       "      <td>0.0</td>\n",
       "      <td>88.5</td>\n",
       "      <td>91.5</td>\n",
       "      <td>92.8</td>\n",
       "      <td>90.1</td>\n",
       "    </tr>\n",
       "    <tr>\n",
       "      <th>201598</th>\n",
       "      <td>55</td>\n",
       "      <td>1.0</td>\n",
       "      <td>88.5</td>\n",
       "      <td>91.5</td>\n",
       "      <td>92.8</td>\n",
       "      <td>90.1</td>\n",
       "    </tr>\n",
       "    <tr>\n",
       "      <th>201599</th>\n",
       "      <td>55</td>\n",
       "      <td>0.0</td>\n",
       "      <td>88.5</td>\n",
       "      <td>91.5</td>\n",
       "      <td>92.8</td>\n",
       "      <td>90.1</td>\n",
       "    </tr>\n",
       "    <tr>\n",
       "      <th>201600</th>\n",
       "      <td>55</td>\n",
       "      <td>1.0</td>\n",
       "      <td>88.5</td>\n",
       "      <td>91.5</td>\n",
       "      <td>92.8</td>\n",
       "      <td>90.1</td>\n",
       "    </tr>\n",
       "    <tr>\n",
       "      <th>201601</th>\n",
       "      <td>55</td>\n",
       "      <td>1.0</td>\n",
       "      <td>88.5</td>\n",
       "      <td>91.5</td>\n",
       "      <td>92.8</td>\n",
       "      <td>90.1</td>\n",
       "    </tr>\n",
       "  </tbody>\n",
       "</table>\n",
       "<p>201602 rows × 6 columns</p>\n",
       "</div>"
      ],
      "text/plain": [
       "        Community Area Number  binary  NWEA_Math_Attainment_Grade_8_Pct  \\\n",
       "0                          29     1.0                              41.0   \n",
       "1                          29     0.0                              41.0   \n",
       "2                          29     1.0                              41.0   \n",
       "3                          29     1.0                              41.0   \n",
       "4                          29     1.0                              41.0   \n",
       "...                       ...     ...                               ...   \n",
       "201597                     55     0.0                              88.5   \n",
       "201598                     55     1.0                              88.5   \n",
       "201599                     55     0.0                              88.5   \n",
       "201600                     55     1.0                              88.5   \n",
       "201601                     55     1.0                              88.5   \n",
       "\n",
       "        NWEA_Reading_Attainment_Grade_8_Pct  Student_Attendance_Avg_Pct  \\\n",
       "0                                      48.9                        92.8   \n",
       "1                                      48.9                        92.8   \n",
       "2                                      48.9                        92.8   \n",
       "3                                      48.9                        92.8   \n",
       "4                                      48.9                        92.8   \n",
       "...                                     ...                         ...   \n",
       "201597                                 91.5                        92.8   \n",
       "201598                                 91.5                        92.8   \n",
       "201599                                 91.5                        92.8   \n",
       "201600                                 91.5                        92.8   \n",
       "201601                                 91.5                        92.8   \n",
       "\n",
       "        Teacher_Attendance_Avg_Pct  \n",
       "0                             90.1  \n",
       "1                             90.1  \n",
       "2                             90.1  \n",
       "3                             90.1  \n",
       "4                             90.1  \n",
       "...                            ...  \n",
       "201597                        90.1  \n",
       "201598                        90.1  \n",
       "201599                        90.1  \n",
       "201600                        90.1  \n",
       "201601                        90.1  \n",
       "\n",
       "[201602 rows x 6 columns]"
      ]
     },
     "execution_count": 57,
     "metadata": {},
     "output_type": "execute_result"
    }
   ],
   "source": [
    "test"
   ]
  },
  {
   "cell_type": "code",
   "execution_count": 60,
   "metadata": {},
   "outputs": [],
   "source": [
    "X_train=train.drop(columns=['Community Area Number','binary'])"
   ]
  },
  {
   "cell_type": "code",
   "execution_count": 61,
   "metadata": {},
   "outputs": [],
   "source": [
    "Y_train=train['binary']"
   ]
  },
  {
   "cell_type": "code",
   "execution_count": 62,
   "metadata": {},
   "outputs": [],
   "source": [
    "X_test=test.drop(columns=['Community Area Number','binary'])"
   ]
  },
  {
   "cell_type": "code",
   "execution_count": 63,
   "metadata": {},
   "outputs": [],
   "source": [
    "Y_test=test['binary']"
   ]
  },
  {
   "cell_type": "code",
   "execution_count": null,
   "metadata": {},
   "outputs": [],
   "source": []
  }
 ],
 "metadata": {
  "kernelspec": {
   "display_name": "Python 3",
   "language": "python",
   "name": "python3"
  },
  "language_info": {
   "codemirror_mode": {
    "name": "ipython",
    "version": 3
   },
   "file_extension": ".py",
   "mimetype": "text/x-python",
   "name": "python",
   "nbconvert_exporter": "python",
   "pygments_lexer": "ipython3",
   "version": "3.8.3"
  }
 },
 "nbformat": 4,
 "nbformat_minor": 4
}
